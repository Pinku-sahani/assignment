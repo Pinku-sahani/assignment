{
 "cells": [
  {
   "cell_type": "markdown",
   "id": "4e541945-d14a-4be8-845f-b71ef4677e9b",
   "metadata": {},
   "source": [
    "# Q1. Explain Class and Object with respect to Object-Oriented Programming. Give a suitable example."
   ]
  },
  {
   "cell_type": "code",
   "execution_count": 8,
   "id": "15368a94-05fa-4f64-a541-1ff5b3146566",
   "metadata": {},
   "outputs": [
    {
     "data": {
      "text/plain": [
       "5"
      ]
     },
     "execution_count": 8,
     "metadata": {},
     "output_type": "execute_result"
    }
   ],
   "source": [
    "class MyClass:\n",
    "    x = 5\n",
    "\n",
    "p1 = MyClass()\n",
    "p1.x\n"
   ]
  },
  {
   "cell_type": "markdown",
   "id": "30e0f190-e0b0-4049-bacf-73bf0bf8351a",
   "metadata": {},
   "source": [
    "# Q2. Name the four pillars of OOPs."
   ]
  },
  {
   "cell_type": "code",
   "execution_count": null,
   "id": "fee75e57-77a0-439c-8388-ca1561a3b49e",
   "metadata": {},
   "outputs": [],
   "source": [
    "# 1 : class and object\n",
    "# 2 : polymorphism\n",
    "# 3 : inheritance\n",
    "# 4 : constructor\n"
   ]
  },
  {
   "cell_type": "markdown",
   "id": "b2a7f3dc-8734-4848-81f3-9d424b53a601",
   "metadata": {},
   "source": [
    "# Q3. Explain why the __init__() function is used. Give a suitable example."
   ]
  },
  {
   "cell_type": "code",
   "execution_count": 1,
   "id": "abf9d536-2a76-4c24-8b41-50709a42be25",
   "metadata": {},
   "outputs": [],
   "source": [
    "# # Use the __init__() function to assign values to object properties,\n",
    "# or other operations that are necessary to do when the object is being created:\n",
    "\n"
   ]
  },
  {
   "cell_type": "code",
   "execution_count": 7,
   "id": "1b5ec8b3-a1ec-445d-a024-b8cb263e23d1",
   "metadata": {},
   "outputs": [
    {
     "name": "stdout",
     "output_type": "stream",
     "text": [
      "John\n",
      "36\n"
     ]
    }
   ],
   "source": [
    "class Person:\n",
    "  def __init__(self, name, age):\n",
    "    self.name = name\n",
    "    self.age = age\n",
    "\n",
    "p1 = Person(\"John\", 36)\n",
    "\n",
    "print(p1.name)\n",
    "print(p1.age)"
   ]
  },
  {
   "cell_type": "markdown",
   "id": "378bf772-bba5-462d-a56c-b0cb9f06d6ba",
   "metadata": {},
   "source": [
    "# Q4. Why self is used in OOPs?"
   ]
  },
  {
   "cell_type": "code",
   "execution_count": 8,
   "id": "926d9268-4365-4652-8a20-2fdfb87785a8",
   "metadata": {},
   "outputs": [],
   "source": [
    "# self basically use of the value combile/add thrue self"
   ]
  },
  {
   "cell_type": "markdown",
   "id": "23a0d4a3-301f-4b8e-bf04-4f4e75d1145f",
   "metadata": {},
   "source": [
    "# Q5. What is inheritance? Give an example for each type of inheritance."
   ]
  },
  {
   "cell_type": "code",
   "execution_count": 12,
   "id": "77cb6081-c9b1-4d08-86b2-1f6fab25d9d6",
   "metadata": {},
   "outputs": [
    {
     "name": "stdout",
     "output_type": "stream",
     "text": [
      "John Doe\n"
     ]
    }
   ],
   "source": [
    "# Inheritance allows us to define a class that inherits all the methods and properties from another class.\n",
    "class Person:\n",
    "  def __init__(self, fname, lname):\n",
    "    self.firstname = fname\n",
    "    self.lastname = lname\n",
    "\n",
    "  def printname(self):\n",
    "    print(self.firstname, self.lastname)\n",
    "\n",
    "#Use the Person class to create an object, and then execute the printname method:\n",
    "\n",
    "x = Person(\"John\", \"Doe\")\n",
    "x.printname()"
   ]
  },
  {
   "cell_type": "code",
   "execution_count": null,
   "id": "8029323e-0dcb-41df-82f5-3d62904df029",
   "metadata": {},
   "outputs": [],
   "source": []
  }
 ],
 "metadata": {
  "kernelspec": {
   "display_name": "Python 3 (ipykernel)",
   "language": "python",
   "name": "python3"
  },
  "language_info": {
   "codemirror_mode": {
    "name": "ipython",
    "version": 3
   },
   "file_extension": ".py",
   "mimetype": "text/x-python",
   "name": "python",
   "nbconvert_exporter": "python",
   "pygments_lexer": "ipython3",
   "version": "3.10.8"
  }
 },
 "nbformat": 4,
 "nbformat_minor": 5
}
